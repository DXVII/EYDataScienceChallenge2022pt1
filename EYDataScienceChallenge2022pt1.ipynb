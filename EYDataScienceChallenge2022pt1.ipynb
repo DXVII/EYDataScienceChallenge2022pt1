{
  "nbformat": 4,
  "nbformat_minor": 0,
  "metadata": {
    "colab": {
      "name": "EYDataScienceChallenge2022pt1.ipynb",
      "provenance": [],
      "authorship_tag": "ABX9TyNmsqx6AFDVyfIqTHeB8QBQ",
      "include_colab_link": true
    },
    "kernelspec": {
      "name": "python3",
      "display_name": "Python 3"
    },
    "language_info": {
      "name": "python"
    }
  },
  "cells": [
    {
      "cell_type": "markdown",
      "metadata": {
        "id": "view-in-github",
        "colab_type": "text"
      },
      "source": [
        "<a href=\"https://colab.research.google.com/github/DXVII/EYDataScienceChallenge2022pt1/blob/main/EYDataScienceChallenge2022pt1.ipynb\" target=\"_parent\"><img src=\"https://colab.research.google.com/assets/colab-badge.svg\" alt=\"Open In Colab\"/></a>"
      ]
    },
    {
      "cell_type": "code",
      "execution_count": null,
      "metadata": {
        "id": "1C1N283DuZOl"
      },
      "outputs": [],
      "source": [
        "#@title imports\n",
        "# Supress Warnings \n",
        "import warnings\n",
        "warnings.filterwarnings('ignore')\n",
        "\n",
        "# Plotting\n",
        "import matplotlib.pyplot as plt\n",
        "\n",
        "# Data science\n",
        "import pandas as pd\n",
        "import numpy as np\n",
        "\n",
        "# Machine Learning\n",
        "from sklearn.linear_model import LogisticRegression\n",
        "from sklearn.metrics import f1_score, accuracy_score, ConfusionMatrixDisplay\n",
        "from sklearn.model_selection import StratifiedKFold\n",
        "\n",
        "# Geospatial\n",
        "!pip install zarr xarray[complete] fsspec pystac aiohttp requests contextily\n",
        "import contextily as cx\n",
        "import xarray as xr\n",
        "import zarr # Not referenced, but required for xarray\n",
        "\n",
        "# Import Planetary Computer tools\n",
        "import fsspec\n",
        "import pystac\n",
        "\n",
        "# Other\n",
        "import os\n",
        "import zipfile\n",
        "from itertools import cycle\n",
        "\n",
        "from sklearn.datasets import load_breast_cancer\n",
        "!pip install optuna\n",
        "\n",
        "\n",
        "from sklearn.neural_network import MLPClassifier\n",
        "from sklearn.neighbors import KNeighborsClassifier\n",
        "from sklearn.svm import SVC\n",
        "from sklearn.ensemble import RandomForestClassifier, AdaBoostClassifier, ExtraTreesClassifier\n",
        "from sklearn.gaussian_process import GaussianProcessClassifier\n",
        "from sklearn.gaussian_process.kernels import RBF\n",
        "from sklearn.naive_bayes import GaussianNB\n",
        "from sklearn.discriminant_analysis import QuadraticDiscriminantAnalysis\n",
        "import lightgbm as lgb\n",
        "import xgboost as xgb\n",
        "# sklearn\n",
        "from sklearn import metrics\n",
        "from sklearn.metrics import f1_score\n",
        "from sklearn.metrics import roc_auc_score\n",
        "from sklearn.model_selection import train_test_split\n",
        "\n",
        "from sklearn.preprocessing import MinMaxScaler\n",
        "from sklearn.preprocessing import FunctionTransformer\n",
        "from sklearn.preprocessing import StandardScaler\n",
        "\n",
        "import sklearn.metrics\n",
        "\n",
        "import numpy as np\n",
        "import pandas as pd\n",
        "import time\n",
        "import matplotlib.pyplot as plt\n",
        "import seaborn as sns\n",
        "import random\n",
        "sns.set()\n",
        "\n",
        "from sklearn.manifold import TSNE\n",
        "from sklearn.cluster import DBSCAN\n",
        "from sklearn.decomposition import PCA\n",
        "from sklearn.neighbors import NearestNeighbors\n",
        "\n",
        "import operator as op \n",
        "from itertools import combinations"
      ]
    }
  ]
}